{
 "cells": [
  {
   "cell_type": "code",
   "execution_count": 1,
   "id": "b5a8d2b4",
   "metadata": {},
   "outputs": [],
   "source": [
    "import tensorflow as tf\n",
    "from tensorflow import keras\n",
    "import numpy as np\n",
    "import pandas as pd"
   ]
  },
  {
   "cell_type": "markdown",
   "id": "f723631f",
   "metadata": {},
   "source": [
    "## core model"
   ]
  },
  {
   "cell_type": "code",
   "execution_count": null,
   "id": "189e2917",
   "metadata": {},
   "outputs": [],
   "source": [
    "def CNN_model(input_features, input_shape = (512, 512, 3)):\n",
    "    model = keras.Sequential([\n",
    "        keras.layers.Conv2D(32, kernel_size=(3, 3), strides=(1, 1), padding='same', input_shape=input_shape),\n",
    "        keras.layers.Conv2D(32, kernel_size=(3, 3), strides=(1, 1), padding='same'),\n",
    "        keras.layers.BatchNormalization(),\n",
    "        keras.layers.ReLU(),\n",
    "        keras.layers.MaxPooling2D(pool_size=(2, 2), strides=(2, 2), padding='valid'),\n",
    "\n",
    "        keras.layers.Conv2D(64, kernel_size=(3, 3), strides=(1, 1), padding='same'),\n",
    "        keras.layers.Conv2D(64, kernel_size=(3, 3), strides=(1, 1), padding='same'),\n",
    "        keras.layers.BatchNormalization(),\n",
    "        keras.layers.ReLU(),\n",
    "        keras.layers.MaxPooling2D(pool_size=(2, 2), strides=(2, 2), padding='valid'),\n",
    "\n",
    "        keras.layers.Conv2D(128, kernel_size=(3, 3), strides=(1, 1), padding='same'),\n",
    "        keras.layers.Conv2D(128, kernel_size=(3, 3), strides=(1, 1), padding='same'),\n",
    "        keras.layers.BatchNormalization(),\n",
    "        keras.layers.ReLU(),\n",
    "        keras.layers.MaxPooling2D(pool_size=(2, 2), strides=(2, 2), padding='valid'),\n",
    "\n",
    "        keras.layers.Conv2D(256, kernel_size=(3, 3), strides=(1, 1), padding='same'),\n",
    "        keras.layers.Conv2D(256, kernel_size=(3, 3), strides=(1, 1), padding='same'),\n",
    "        keras.layers.BatchNormalization(),\n",
    "        keras.layers.ReLU(),\n",
    "        keras.layers.MaxPooling2D(pool_size=(2, 2), strides=(2, 2), padding='valid'),\n",
    "\n",
    "        keras.layers.Flatten(),\n",
    "\n",
    "        keras.layers.Dense(1024),\n",
    "        keras.layers.ReLU(),\n",
    "        keras.layers.Dense(512),\n",
    "        keras.layers.ReLU(),\n",
    "        keras.layers.Dropout(0.5),\n",
    "        keras.layers.Dense(input_features, activation='softmax')\n",
    "    ])\n",
    "    return model"
   ]
  }
 ],
 "metadata": {
  "kernelspec": {
   "display_name": "master (3.11.9)",
   "language": "python",
   "name": "python3"
  },
  "language_info": {
   "codemirror_mode": {
    "name": "ipython",
    "version": 3
   },
   "file_extension": ".py",
   "mimetype": "text/x-python",
   "name": "python",
   "nbconvert_exporter": "python",
   "pygments_lexer": "ipython3",
   "version": "3.11.9"
  }
 },
 "nbformat": 4,
 "nbformat_minor": 5
}
